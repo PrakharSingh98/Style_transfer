{
 "cells": [
  {
   "cell_type": "code",
   "execution_count": 29,
   "metadata": {},
   "outputs": [],
   "source": [
    "import numpy as np\n",
    "import matplotlib.pyplot as plt\n",
    "from PIL import Image"
   ]
  },
  {
   "cell_type": "code",
   "execution_count": 2,
   "metadata": {},
   "outputs": [
    {
     "name": "stderr",
     "output_type": "stream",
     "text": [
      "Using TensorFlow backend.\n"
     ]
    }
   ],
   "source": [
    "from keras.layers import InputLayer, Dense, Flatten\n",
    "from keras.layers import AveragePooling2D, MaxPooling2D\n",
    "from keras.layers.convolutional import Conv2D\n",
    "from keras.models import Model, Sequential\n",
    "from keras.applications.vgg16 import VGG16\n",
    "from keras.applications.vgg16 import preprocess_input\n",
    "from keras.preprocessing import image"
   ]
  },
  {
   "cell_type": "code",
   "execution_count": 30,
   "metadata": {},
   "outputs": [],
   "source": [
    "#Replace max pool with average pool as avg pool retains more information\n",
    "def maxpool_to_avgpool(shape):\n",
    "    vgg = VGG16(input_shape=shape, weights='imagenet', include_top=False)\n",
    "    new_model = Sequential()\n",
    "    new_model.add(InputLayer(input_shape=shape))\n",
    "    for layer in vgg.layers:\n",
    "         if(layer.__class__ == MaxPooling2D):\n",
    "            new_model.add(AveragePooling2D())\n",
    "         else:\n",
    "            new_model.add(layer)\n",
    "    return new_model"
   ]
  },
  {
   "cell_type": "code",
   "execution_count": 16,
   "metadata": {},
   "outputs": [],
   "source": [
    "# Gram matrix to find the relation between different filters or features detected by the layers\n",
    "def gram_matrix(img):\n",
    "    #Input is H,W,C \n",
    "    #We have to change this to C,H*W\n",
    "    #batch flatten leaves the first dimension and flatten the rest (3D->2D)\n",
    "    x = K.batch_flatten(K.permute_dimensions(img, (2,0,1)))\n",
    "    G = K.dot(x, K.transpose(x))\n",
    "    return G"
   ]
  },
  {
   "cell_type": "code",
   "execution_count": 18,
   "metadata": {},
   "outputs": [],
   "source": [
    "#It takes the style and target image and calculates J(style)\n",
    "def style_loss(y,t):\n",
    "    return K.mean(K.square(gram_matrix(y)-gram_matrix(t)))"
   ]
  },
  {
   "cell_type": "code",
   "execution_count": 19,
   "metadata": {},
   "outputs": [],
   "source": [
    "def minimize(fn,epochs,batch_shape):\n",
    "    loses=[]\n",
    "    x = np.random.randn(np.prod(batch_shape)) #Initialize a random image\n",
    "    from scipy.optimize import fmin_l_bfgs_b\n",
    "    for i in range(20):\n",
    "        x,l,_ = fmin_l_bfgs_b(func=fn, x0=x, maxfun=20)\n",
    "        x=np.clip(x,-127,127)\n",
    "        print(\"iter=%s loss=%s\" % (i,l))\n",
    "        loses.append(l)\n",
    "    plt.plot(loses)\n",
    "    plt.show()\n",
    "    new_img = x.reshape(batch_shape)\n",
    "    return new_img[0] #since it also has batch shape we will omit that by returning new_img[0]"
   ]
  },
  {
   "cell_type": "code",
   "execution_count": null,
   "metadata": {},
   "outputs": [],
   "source": [
    "if __name__ == '__main__':\n",
    "    size=(300,300)\n",
    "    path='C:\\Users\\KIIT\\Desktop\\Projects\\Style_transfer\\Style.jpg'\n",
    "    img = Image.open(path)\n",
    "    img=img.resize(size)\n",
    "    x=np.asarray(img)\n",
    "    #We have to expand dimension as model takes input in form of batches(1,H,W,C)\n",
    "    x = np.expand_dims(x, axis=0)\n",
    "    x = preprocess_input(x)\n",
    "    batch_shape = x.shape\n",
    "    shape = x.shape[1:] #Omit the batch size\n",
    "    vgg = avgpool_to_maxpool(shape)\n",
    "    symbolic_output = [layer.get_output_at(1) for layer in vgg.layers if layer.name.endswith('conv1')]\n",
    "    multi_output_model = Model(vgg.input, symbolic_output)\n",
    "    style_out = [K.variable(y) for y in multi_output_model.predict(x)]\n",
    "    \n",
    "    loss=0\n",
    "    for symbolic, actual in zip(symbolic_output, style_out):\n",
    "        loss+=style_loss(symbolic[0], actual[0])\n",
    "        grads = K.gradients\n",
    "    "
   ]
  }
 ],
 "metadata": {
  "kernelspec": {
   "display_name": "Python 3",
   "language": "python",
   "name": "python3"
  },
  "language_info": {
   "codemirror_mode": {
    "name": "ipython",
    "version": 3
   },
   "file_extension": ".py",
   "mimetype": "text/x-python",
   "name": "python",
   "nbconvert_exporter": "python",
   "pygments_lexer": "ipython3",
   "version": "3.7.6"
  }
 },
 "nbformat": 4,
 "nbformat_minor": 4
}
